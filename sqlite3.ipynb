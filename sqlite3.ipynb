{
  "nbformat": 4,
  "nbformat_minor": 0,
  "metadata": {
    "colab": {
      "provenance": [],
      "authorship_tag": "ABX9TyMtEk0jm3EK79hH8rkMAO/1",
      "include_colab_link": true
    },
    "kernelspec": {
      "name": "python3",
      "display_name": "Python 3"
    },
    "language_info": {
      "name": "python"
    }
  },
  "cells": [
    {
      "cell_type": "markdown",
      "metadata": {
        "id": "view-in-github",
        "colab_type": "text"
      },
      "source": [
        "<a href=\"https://colab.research.google.com/github/shishiradk/sqlite3-understanding-with-example/blob/main/sqlite3.ipynb\" target=\"_parent\"><img src=\"https://colab.research.google.com/assets/colab-badge.svg\" alt=\"Open In Colab\"/></a>"
      ]
    },
    {
      "cell_type": "code",
      "execution_count": 1,
      "metadata": {
        "id": "gs69S-sCKVFa"
      },
      "outputs": [],
      "source": [
        "import sqlite3"
      ]
    },
    {
      "cell_type": "code",
      "source": [
        "##connect to an SQlite database\n",
        "connection=sqlite3.connect('example.db')\n",
        "connection"
      ],
      "metadata": {
        "colab": {
          "base_uri": "https://localhost:8080/"
        },
        "id": "-fPcIbGeKZdp",
        "outputId": "71a00b6c-4a22-4987-a862-206410178006"
      },
      "execution_count": 2,
      "outputs": [
        {
          "output_type": "execute_result",
          "data": {
            "text/plain": [
              "<sqlite3.Connection at 0x7be3c6cdc5e0>"
            ]
          },
          "metadata": {},
          "execution_count": 2
        }
      ]
    },
    {
      "cell_type": "code",
      "source": [
        "cursor=connection.cursor()"
      ],
      "metadata": {
        "id": "gA7dIvotKx2a"
      },
      "execution_count": 3,
      "outputs": []
    },
    {
      "cell_type": "code",
      "source": [
        "#create a table\n",
        "cursor.execute('''\n",
        "CREATE TABLE IF NOT EXISTS employees (\n",
        "  id Integer Primary Key,\n",
        "  name Text,\n",
        "  age Integer,\n",
        "  department text\n",
        ")\n",
        "'''\n",
        "\n",
        ")\n",
        "\n",
        "##commit the change\n",
        "connection.commit()"
      ],
      "metadata": {
        "id": "qiLTgd0jK24-"
      },
      "execution_count": 5,
      "outputs": []
    },
    {
      "cell_type": "code",
      "source": [
        "#clear the old data\n",
        "cursor.execute('DELETE FROM employees')"
      ],
      "metadata": {
        "colab": {
          "base_uri": "https://localhost:8080/"
        },
        "id": "Qm2loUmkTpm2",
        "outputId": "2505d579-07ae-48b1-cd79-44049e00fb7a"
      },
      "execution_count": 22,
      "outputs": [
        {
          "output_type": "execute_result",
          "data": {
            "text/plain": [
              "<sqlite3.Cursor at 0x7be3c6cd6fc0>"
            ]
          },
          "metadata": {},
          "execution_count": 22
        }
      ]
    },
    {
      "cell_type": "code",
      "source": [
        "cursor.execute('''\n",
        "Select * from employees\n",
        "''')"
      ],
      "metadata": {
        "colab": {
          "base_uri": "https://localhost:8080/"
        },
        "id": "WD_7QS4vLgtP",
        "outputId": "e21b31be-d9c7-463b-e6e2-1e8030027291"
      },
      "execution_count": 23,
      "outputs": [
        {
          "output_type": "execute_result",
          "data": {
            "text/plain": [
              "<sqlite3.Cursor at 0x7be3c6cd6fc0>"
            ]
          },
          "metadata": {},
          "execution_count": 23
        }
      ]
    },
    {
      "cell_type": "code",
      "source": [
        "##innsert the data inn sqlite table\n",
        "cursor.execute('''\n",
        "Insert Into employees(name,age,department)\n",
        "VALUES ('Bob',25,'IT')\n",
        "\n",
        "''')\n",
        "\n",
        "cursor.execute('''\n",
        "Insert Into employees(name,age,department)\n",
        "VALUES ('Tom',25,'IT')\n",
        "\n",
        "''')\n",
        "\n",
        "cursor.execute('''\n",
        "Insert Into employees(name,age,department)\n",
        "VALUES ('Bom',25,'IT')\n",
        "\n",
        "''')\n",
        "\n",
        "##commit the change\n",
        "connection.commit()"
      ],
      "metadata": {
        "id": "-8JVUpodMb3Z"
      },
      "execution_count": 24,
      "outputs": []
    },
    {
      "cell_type": "code",
      "source": [
        "## query the data from the table\n",
        "cursor.execute('Select *from employees')\n",
        "rows=cursor.fetchall()\n",
        "\n",
        "##print the quired\n",
        "for row in rows:\n",
        "  print(row)"
      ],
      "metadata": {
        "colab": {
          "base_uri": "https://localhost:8080/"
        },
        "id": "XghewrfjQ_hu",
        "outputId": "23328401-de69-429a-ac27-151ceee567c2"
      },
      "execution_count": 25,
      "outputs": [
        {
          "output_type": "stream",
          "name": "stdout",
          "text": [
            "(1, 'Bob', 25, 'IT')\n",
            "(2, 'Tom', 25, 'IT')\n",
            "(3, 'Bom', 25, 'IT')\n"
          ]
        }
      ]
    },
    {
      "cell_type": "code",
      "source": [
        "##update the data inn table\n",
        "\n",
        "cursor.execute('''\n",
        "UPDATE employees\n",
        "Set age=34\n",
        "where name=\"Bob\"\n",
        "\n",
        "''')\n",
        "\n",
        "connection.commit()"
      ],
      "metadata": {
        "id": "8oUSv3HQRoYm"
      },
      "execution_count": 26,
      "outputs": []
    },
    {
      "cell_type": "code",
      "source": [
        "##query the data from the table\n",
        "cursor.execute('Select * from employees')\n",
        "rows=cursor.fetchall()\n",
        "\n",
        "##print the quried data\n",
        "\n",
        "for row in rows:\n",
        "  print(row)"
      ],
      "metadata": {
        "colab": {
          "base_uri": "https://localhost:8080/"
        },
        "id": "6x2-jHJrSLk9",
        "outputId": "401e3fb3-8aeb-4521-cbd1-a1a9e00e54a9"
      },
      "execution_count": 27,
      "outputs": [
        {
          "output_type": "stream",
          "name": "stdout",
          "text": [
            "(1, 'Bob', 34, 'IT')\n",
            "(2, 'Tom', 25, 'IT')\n",
            "(3, 'Bom', 25, 'IT')\n"
          ]
        }
      ]
    },
    {
      "cell_type": "code",
      "source": [
        "##Delete the data fromm the table\n",
        "cursor.execute('''\n",
        "DELETE FROM employees\n",
        "where name=\"Tom\"\n",
        "''')\n",
        "\n",
        "connection.commit()\n"
      ],
      "metadata": {
        "id": "8tjlgeHgSkwG"
      },
      "execution_count": 31,
      "outputs": []
    },
    {
      "cell_type": "code",
      "source": [
        "## query the data from the table\n",
        "cursor.execute('Select *from employees')\n",
        "rows=cursor.fetchall()\n",
        "\n",
        "##print the quired\n",
        "for row in rows:\n",
        "  print(row)"
      ],
      "metadata": {
        "colab": {
          "base_uri": "https://localhost:8080/"
        },
        "id": "gWSaUSzvX6Dv",
        "outputId": "a09c5258-76f7-45a5-bbc5-fb87f2ab1570"
      },
      "execution_count": 32,
      "outputs": [
        {
          "output_type": "stream",
          "name": "stdout",
          "text": [
            "(1, 'Bob', 34, 'IT')\n",
            "(3, 'Bom', 25, 'IT')\n"
          ]
        }
      ]
    },
    {
      "cell_type": "code",
      "source": [
        "##simple project\n",
        "\n",
        "import sqlite3\n",
        "\n",
        "# Connect to SQLite database\n",
        "connection = sqlite3.connect('sales.db')\n",
        "cursor = connection.cursor()\n",
        "\n",
        "# Create a table for sales data\n",
        "cursor.execute('''\n",
        "CREATE TABLE IF NOT EXISTS sales(\n",
        "  id INTEGER PRIMARY KEY,\n",
        "  product_name TEXT,\n",
        "  quantity INTEGER,\n",
        "  price REAL\n",
        ")\n",
        "''')\n",
        "\n",
        "# Insert data into the sales table\n",
        "sales_data = [\n",
        "    ('Phone', 10, 500),\n",
        "    ('Laptop', 5, 1000),\n",
        "    ('Tablet', 8, 300)\n",
        "]\n",
        "\n",
        "cursor.executemany('''\n",
        "INSERT INTO sales (product_name, quantity, price)\n",
        "VALUES (?, ?, ?)\n",
        "''', sales_data)\n",
        "\n",
        "# Commit the changes\n",
        "connection.commit()\n",
        "\n",
        "##query the data from the table\n",
        "cursor.execute(\"SELECT * FROM sales\")\n",
        "for row in cursor.fetchall():\n",
        "    print(row)\n",
        "\n",
        "# Close the connection\n",
        "connection.close()\n"
      ],
      "metadata": {
        "colab": {
          "base_uri": "https://localhost:8080/"
        },
        "id": "OZiVDcgfbNef",
        "outputId": "3b0cc965-0fe2-4708-8cef-edec24198f23"
      },
      "execution_count": 39,
      "outputs": [
        {
          "output_type": "stream",
          "name": "stdout",
          "text": [
            "(1, 'Phone', 10, 500.0)\n",
            "(2, 'Laptop', 5, 1000.0)\n",
            "(3, 'Tablet', 8, 300.0)\n"
          ]
        }
      ]
    },
    {
      "cell_type": "code",
      "source": [],
      "metadata": {
        "id": "aeL2rjOrhX6e"
      },
      "execution_count": 34,
      "outputs": []
    },
    {
      "cell_type": "code",
      "source": [],
      "metadata": {
        "id": "4WSHvgrzhfG2"
      },
      "execution_count": null,
      "outputs": []
    }
  ]
}